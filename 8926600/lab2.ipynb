{
 "cells": [
  {
   "cell_type": "markdown",
   "metadata": {},
   "source": [
    "Import Directries"
   ]
  },
  {
   "cell_type": "code",
   "execution_count": 3,
   "metadata": {},
   "outputs": [],
   "source": [
    "import pandas as pd\n",
    "from sklearn.model_selection import train_test_split\n",
    "from sklearn.feature_extraction.text import CountVectorizer\n",
    "from sklearn.svm import SVC\n",
    "from sklearn.naive_bayes import GaussianNB, MultinomialNB\n",
    "from sklearn.metrics import accuracy_score, classification_report\n"
   ]
  },
  {
   "cell_type": "markdown",
   "metadata": {},
   "source": [
    "Load the dataset"
   ]
  },
  {
   "cell_type": "code",
   "execution_count": 5,
   "metadata": {},
   "outputs": [],
   "source": [
    "df = pd.read_csv(\"C:\\\\Users\\\\harsh\\\\Downloads\\\\Lab2_dataset.csv\")"
   ]
  },
  {
   "cell_type": "markdown",
   "metadata": {},
   "source": [
    "Use the CountVectorizer function in sklearn to transform the \"text\" feature to a vector representation of a predetermined size.\n",
    "\n"
   ]
  },
  {
   "cell_type": "code",
   "execution_count": 6,
   "metadata": {},
   "outputs": [],
   "source": [
    "vectorizer = CountVectorizer(max_features=1000)  # You can adjust max_features as needed\n",
    "X = vectorizer.fit_transform(df['text'])\n",
    "y = df['label']"
   ]
  },
  {
   "cell_type": "markdown",
   "metadata": {},
   "source": [
    "Split the dataset into training and testing."
   ]
  },
  {
   "cell_type": "code",
   "execution_count": 7,
   "metadata": {},
   "outputs": [],
   "source": [
    "X_train, X_test, y_train, y_test = train_test_split(X, y, test_size=0.2, random_state=42)"
   ]
  },
  {
   "cell_type": "markdown",
   "metadata": {},
   "source": [
    "Model Training and Evaluation:\n",
    "\n",
    "Train the Sklearn SVC model on the training dataset and evaluate on the test set"
   ]
  },
  {
   "cell_type": "code",
   "execution_count": 8,
   "metadata": {},
   "outputs": [
    {
     "name": "stdout",
     "output_type": "stream",
     "text": [
      "SVC Accuracy: 0.9497584541062802\n",
      "SVC Classification Report:\n",
      "              precision    recall  f1-score   support\n",
      "\n",
      "         ham       0.98      0.95      0.96       742\n",
      "        spam       0.88      0.96      0.92       293\n",
      "\n",
      "    accuracy                           0.95      1035\n",
      "   macro avg       0.93      0.95      0.94      1035\n",
      "weighted avg       0.95      0.95      0.95      1035\n",
      "\n"
     ]
    }
   ],
   "source": [
    "svc_model = SVC()\n",
    "svc_model.fit(X_train, y_train)\n",
    "svc_pred = svc_model.predict(X_test)\n",
    "svc_accuracy = accuracy_score(y_test, svc_pred)\n",
    "print(\"SVC Accuracy:\", svc_accuracy)\n",
    "print(\"SVC Classification Report:\")\n",
    "print(classification_report(y_test, svc_pred))"
   ]
  },
  {
   "cell_type": "markdown",
   "metadata": {},
   "source": [
    "Train and evaluate also on the Gaussian and Multinomial Naiive Bayes Classifiers"
   ]
  },
  {
   "cell_type": "code",
   "execution_count": 9,
   "metadata": {},
   "outputs": [
    {
     "name": "stdout",
     "output_type": "stream",
     "text": [
      "Gaussian Naive Bayes Accuracy: 0.9420289855072463\n",
      "Gaussian Naive Bayes Classification Report:\n",
      "              precision    recall  f1-score   support\n",
      "\n",
      "         ham       0.99      0.93      0.96       742\n",
      "        spam       0.85      0.97      0.90       293\n",
      "\n",
      "    accuracy                           0.94      1035\n",
      "   macro avg       0.92      0.95      0.93      1035\n",
      "weighted avg       0.95      0.94      0.94      1035\n",
      "\n",
      "Multinomial Naive Bayes Accuracy: 0.9342995169082126\n",
      "Multinomial Naive Bayes Classification Report:\n",
      "              precision    recall  f1-score   support\n",
      "\n",
      "         ham       0.97      0.94      0.95       742\n",
      "        spam       0.86      0.92      0.89       293\n",
      "\n",
      "    accuracy                           0.93      1035\n",
      "   macro avg       0.91      0.93      0.92      1035\n",
      "weighted avg       0.94      0.93      0.93      1035\n",
      "\n"
     ]
    }
   ],
   "source": [
    "#Gaussian\n",
    "gnb_model = GaussianNB()\n",
    "gnb_model.fit(X_train.toarray(), y_train)\n",
    "gnb_pred = gnb_model.predict(X_test.toarray())\n",
    "gnb_accuracy = accuracy_score(y_test, gnb_pred)\n",
    "print(\"Gaussian Naive Bayes Accuracy:\", gnb_accuracy)\n",
    "print(\"Gaussian Naive Bayes Classification Report:\")\n",
    "print(classification_report(y_test, gnb_pred))\n",
    "\n",
    "#Multinomial\n",
    "mnb_model = MultinomialNB()\n",
    "mnb_model.fit(X_train, y_train)\n",
    "mnb_pred = mnb_model.predict(X_test)\n",
    "mnb_accuracy = accuracy_score(y_test, mnb_pred)\n",
    "print(\"Multinomial Naive Bayes Accuracy:\", mnb_accuracy)\n",
    "print(\"Multinomial Naive Bayes Classification Report:\")\n",
    "print(classification_report(y_test, mnb_pred))"
   ]
  },
  {
   "cell_type": "markdown",
   "metadata": {},
   "source": [
    "Compare between the performance of all models and comment on the reasons behind the differences seen between the three models."
   ]
  },
  {
   "cell_type": "code",
   "execution_count": 11,
   "metadata": {},
   "outputs": [
    {
     "name": "stdout",
     "output_type": "stream",
     "text": [
      "For Gaussian\n",
      "Gaussian Naive Bayes Accuracy: 0.9420289855072463\n",
      "Gaussian Naive Bayes Classification Report:\n",
      "              precision    recall  f1-score   support\n",
      "\n",
      "         ham       0.99      0.93      0.96       742\n",
      "        spam       0.85      0.97      0.90       293\n",
      "\n",
      "    accuracy                           0.94      1035\n",
      "   macro avg       0.92      0.95      0.93      1035\n",
      "weighted avg       0.95      0.94      0.94      1035\n",
      "\n",
      "For multiomial\n",
      "Multinomial Naive Bayes Accuracy: 0.9342995169082126\n",
      "Multinomial Naive Bayes Classification Report:\n",
      "              precision    recall  f1-score   support\n",
      "\n",
      "         ham       0.97      0.94      0.95       742\n",
      "        spam       0.86      0.92      0.89       293\n",
      "\n",
      "    accuracy                           0.93      1035\n",
      "   macro avg       0.91      0.93      0.92      1035\n",
      "weighted avg       0.94      0.93      0.93      1035\n",
      "\n"
     ]
    }
   ],
   "source": [
    "print(\"For Gaussian\")\n",
    "print(\"Gaussian Naive Bayes Accuracy:\", gnb_accuracy)\n",
    "print(\"Gaussian Naive Bayes Classification Report:\")\n",
    "print(classification_report(y_test, gnb_pred))\n",
    "\n",
    "print(\"For multiomial\")\n",
    "print(\"Multinomial Naive Bayes Accuracy:\", mnb_accuracy)\n",
    "print(\"Multinomial Naive Bayes Classification Report:\")\n",
    "print(classification_report(y_test, mnb_pred))"
   ]
  },
  {
   "cell_type": "markdown",
   "metadata": {},
   "source": [
    "Use the AB_NYC_2019.csv dataset for this part."
   ]
  },
  {
   "cell_type": "code",
   "execution_count": 13,
   "metadata": {},
   "outputs": [],
   "source": [
    "import pandas as pd\n",
    "import seaborn as sns\n",
    "import matplotlib.pyplot as plt\n",
    "from scipy.stats import zscore\n",
    "\n",
    "# Load the dataset\n",
    "df_nyc = pd.read_csv(\"C:\\\\Users\\\\harsh\\\\Downloads\\\\Lab2_dataset.csv\")"
   ]
  },
  {
   "cell_type": "markdown",
   "metadata": {},
   "source": [
    "Remove outliers based on price per night for a given apartment/home."
   ]
  },
  {
   "cell_type": "code",
   "execution_count": 14,
   "metadata": {},
   "outputs": [],
   "source": [
    "#Z-score\n",
    "def remove_outliers_zscore(df, column, threshold=3):\n",
    "    z_scores = zscore(df[column])\n",
    "    df_no_outliers = df[(z_scores < threshold) & (z_scores > -threshold)]\n",
    "    return df_no_outliers"
   ]
  },
  {
   "cell_type": "code",
   "execution_count": 15,
   "metadata": {},
   "outputs": [],
   "source": [
    "#IQR\n",
    "def remove_outliers_iqr(df, column):\n",
    "    Q1 = df[column].quantile(0.25)\n",
    "    Q3 = df[column].quantile(0.75)\n",
    "    IQR = Q3 - Q1\n",
    "    lower_bound = Q1 - 1.5 * IQR\n",
    "    upper_bound = Q3 + 1.5 * IQR\n",
    "    df_no_outliers = df[(df[column] > lower_bound) & (df[column] < upper_bound)]\n",
    "    return df_no_outliers"
   ]
  },
  {
   "cell_type": "markdown",
   "metadata": {},
   "source": [
    "Compare the Z-score approach and the whiskers approach in terms of who is better to remove the outliers in this case."
   ]
  },
  {
   "cell_type": "code",
   "execution_count": 17,
   "metadata": {},
   "outputs": [
    {
     "data": {
      "image/png": "[encoded data removed]",
      "text/plain": [
       "<Figure size 1200x600 with 3 Axes>"
      ]
     },
     "metadata": {},
     "output_type": "display_data"
    }
   ],
   "source": [
    "df_no_outliers_zscore = remove_outliers_zscore(df_nyc, 'label_num')\n",
    "df_no_outliers_iqr = remove_outliers_iqr(df_nyc, 'label_num')\n",
    "\n",
    "plt.figure(figsize=(12, 6))\n",
    "\n",
    "plt.subplot(2, 2, 1)\n",
    "sns.boxplot(x=df_nyc['label_num'])\n",
    "plt.title('Original Dataset')\n",
    "\n",
    "plt.subplot(2, 2, 2)\n",
    "sns.boxplot(x=df_no_outliers_zscore['label_num'])\n",
    "plt.title('Dataset without Z-score Outliers')\n",
    "\n",
    "plt.subplot(2, 2, 3)\n",
    "sns.boxplot(x=df_no_outliers_iqr['label_num'])\n",
    "plt.title('Dataset without IQR Outliers')\n",
    "\n",
    "plt.tight_layout()\n",
    "plt.show()"
   ]
  }
 ],
 "metadata": {
  "kernelspec": {
   "display_name": "Python 3",
   "language": "python",
   "name": "python3"
  },
  "language_info": {
   "codemirror_mode": {
    "name": "ipython",
    "version": 3
   },
   "file_extension": ".py",
   "mimetype": "text/x-python",
   "name": "python",
   "nbconvert_exporter": "python",
   "pygments_lexer": "ipython3",
   "version": "3.12.0"
  }
 },
 "nbformat": 4,
 "nbformat_minor": 2
}
